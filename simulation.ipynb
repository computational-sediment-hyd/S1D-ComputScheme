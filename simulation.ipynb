{
 "cells": [
  {
   "cell_type": "code",
   "execution_count": null,
   "id": "e53368df",
   "metadata": {},
   "outputs": [],
   "source": [
    "import numpy as np\n",
    "import pandas as pd\n",
    "from numba import jit \n",
    "from numba.experimental import jitclass\n",
    "from numba.typed import List\n",
    "\n",
    "import source.riversectionNumba as sect\n",
    "import source.s1driverflow as model"
   ]
  },
  {
   "cell_type": "code",
   "execution_count": null,
   "id": "fd6a90ef",
   "metadata": {},
   "outputs": [],
   "source": [
    "import holoviews as hv\n",
    "hv.extension('bokeh')"
   ]
  },
  {
   "cell_type": "markdown",
   "id": "d357ebb6",
   "metadata": {},
   "source": [
    "# flow model"
   ]
  },
  {
   "cell_type": "markdown",
   "id": "1bc92857",
   "metadata": {},
   "source": [
    "## non-uniform flow model"
   ]
  },
  {
   "cell_type": "code",
   "execution_count": null,
   "id": "58ea10d1",
   "metadata": {},
   "outputs": [],
   "source": [
    "def nonuniform(channel, Qini):\n",
    "    Qt = np.full(len(channel), Qini, dtype=np.float64)\n",
    "    ib = float(1.0/400.0)\n",
    "    \n",
    "    H0 = channel[0].calH0ABS(Qini,ib)[0]\n",
    "    \n",
    "    Huni = model.NonUniformflow(channel, Qt, H0)\n",
    "    \n",
    "    Aini = []\n",
    "    for i, hh in enumerate(Huni):\n",
    "        Aini.append(channel[i].H2ABS(hh)[0])\n",
    "    Aini = np.array(Aini)\n",
    "    \n",
    "    return Huni, Aini"
   ]
  },
  {
   "cell_type": "markdown",
   "id": "9dea8e3f",
   "metadata": {},
   "source": [
    "## unsteady flow model  by collocated grid"
   ]
  },
  {
   "cell_type": "code",
   "execution_count": null,
   "id": "9812c712",
   "metadata": {},
   "outputs": [],
   "source": [
    "def unsteady(ch, chrr, Qini, kind=1, dt=float(10)):\n",
    "    ib = float(1.0/400.0)\n",
    "    Huni, Auni = nonuniform(ch, Qini)\n",
    "    Q = np.full_like(Auni, Qini)\n",
    "    A, H = Auni[::-1], Huni[::-1]\n",
    "    \n",
    "    for n in range(1, int(3600*10/dt)):\n",
    "#     for n in range(1, 2):\n",
    "        H0, A0, _, _ = chrr[-1].calH0ABS(Qini,ib)\n",
    "        if kind == 1 : # collocated\n",
    "            A, Q, H = model.UnSteadyflowCollocated(chrr, A, Q, H, A0, Qini, dt)\n",
    "        elif kind == 2 : # staggered\n",
    "            A, Q, H = model.UnSteadyflowStaggered(chrr, A, Q, H, A0, Qini, dt)\n",
    "        \n",
    "    return A, Q, H"
   ]
  },
  {
   "cell_type": "markdown",
   "id": "bf22b564",
   "metadata": {},
   "source": [
    "# caclculation"
   ]
  },
  {
   "cell_type": "code",
   "execution_count": null,
   "id": "a02b64e8",
   "metadata": {},
   "outputs": [],
   "source": [
    "df = pd.read_csv('zb.csv', index_col=0)"
   ]
  },
  {
   "cell_type": "code",
   "execution_count": null,
   "id": "f4ebf540",
   "metadata": {},
   "outputs": [],
   "source": [
    "B = 50\n",
    "manning = 0.03\n",
    "ib = 1/400\n",
    "dep = 5\n",
    "A = dep * B\n",
    "S = B+2*dep\n",
    "Qconst = ib**0.5 * (A/S)**(2/3) / manning * A\n",
    "Qconst"
   ]
  },
  {
   "cell_type": "code",
   "execution_count": null,
   "id": "5caccec0",
   "metadata": {},
   "outputs": [],
   "source": [
    "Frnorm = Qconst/A/np.sqrt(float(9.8)*(A/S))\n",
    "Frnorm"
   ]
  },
  {
   "cell_type": "markdown",
   "id": "dc0f0f02",
   "metadata": {},
   "source": [
    "## dx = 200"
   ]
  },
  {
   "cell_type": "code",
   "execution_count": null,
   "id": "de69e099",
   "metadata": {},
   "outputs": [],
   "source": [
    "channel = List()\n",
    "for zbs, Ls in zip(df.zb.values, df.L.values) :\n",
    "\n",
    "    p = np.array([\n",
    "            [0, zbs+10]\n",
    "            ,[0, zbs]\n",
    "            ,[B, zbs]\n",
    "            ,[B, zbs+10]\n",
    "        ])\n",
    "    \n",
    "    n = np.repeat(manning, (len(p) - 1))\n",
    "    \n",
    "    typed_ps = List()\n",
    "    typed_ns = List()\n",
    "    \n",
    "    typed_ps.append(p)\n",
    "    typed_ns.append(n)\n",
    "    \n",
    "    channel.append( sect.section(typed_ps, typed_ns, Ls) )\n",
    "\n",
    "channelr = List(reversed(channel))"
   ]
  },
  {
   "cell_type": "code",
   "execution_count": null,
   "id": "f27e0968",
   "metadata": {},
   "outputs": [],
   "source": [
    "zb = [c.zbmin() for c in channel]\n",
    "L = [c.distance for c in channel]"
   ]
  },
  {
   "cell_type": "code",
   "execution_count": null,
   "id": "f7ff253d",
   "metadata": {},
   "outputs": [],
   "source": [
    "H, A = nonuniform(channel, Qconst)\n",
    "Acol, Qcol, Hcol = unsteady(channel, channelr, Qconst, 1)\n",
    "Astg, Qstg, Hstg = unsteady(channel, channelr, Qconst, 2)"
   ]
  },
  {
   "cell_type": "code",
   "execution_count": null,
   "id": "c216ad2a",
   "metadata": {},
   "outputs": [],
   "source": [
    "Fr = []\n",
    "Frcol = []\n",
    "Frstg = []\n",
    "for i,c in enumerate(channel):\n",
    "    ie, Alpha, _, Rc, _, A, _, _ = c.calIeAlphaBetaRcUsubABS(Qconst, H[i])\n",
    "    Fr.append( Qconst/A/np.sqrt( float(9.8)*Rc/Alpha ) )\n",
    "    ie, Alpha, _, Rc, _, A, _, _ = c.calIeAlphaBetaRcUsubABS(Qconst, Hcol[::-1][i])\n",
    "    Frcol.append( Qconst/A/np.sqrt( float(9.8)*Rc/Alpha ) )\n",
    "    ie, Alpha, _, Rc, _, A, _, _ = c.calIeAlphaBetaRcUsubABS(Qconst, Hstg[::-1][i])\n",
    "    Frstg.append( Qconst/A/np.sqrt( float(9.8)*Rc/Alpha ) )"
   ]
  },
  {
   "cell_type": "code",
   "execution_count": null,
   "id": "ef24a14b",
   "metadata": {},
   "outputs": [],
   "source": [
    "g = hv.Curve((L,H), label='non-uniform:dx=200') \\\n",
    "* hv.Curve((L,Hcol[::-1]), label='unsteady_collocated:dx=200') \\\n",
    "* hv.Curve((L,Hstg[::-1]), label='unsteady_staggered:dx=200') \\\n",
    "* hv.Curve((L,df['zbmean'].values+5.0), label='normal-depth(on zbmean)').options(color='k',line_width=2,line_dash='dashed') \\\n",
    "* hv.Curve((L,df['zb'].values), label='zb').options(color='k') \\\n",
    "* hv.Curve((L,df['zbmean'].values), label='zbmean').options(color='gray')\n",
    "\n",
    "go = g.options(width=600,height=450,show_grid=True, legend_position='top_left', ylabel='elevation')"
   ]
  },
  {
   "cell_type": "code",
   "execution_count": null,
   "id": "ddeb3014",
   "metadata": {},
   "outputs": [],
   "source": [
    "g2 = hv.Curve((L,Fr), vdims='Fr',label='non-uniform:dx=200') \\\n",
    "* hv.Curve((L,Frcol), vdims='Fr',label='unsteady_collocated:dx=200') \\\n",
    "* hv.Curve((L,Frstg), vdims='Fr',label='unsteady_staggered:dx=200') \\\n",
    "* hv.HLine(Frnorm).options(color='k',line_width=2,line_dash='dashed')\n",
    "\n",
    "go2 = g2.options(width=600,height=200,show_grid=True, show_legend=False, ylabel='Froude number')"
   ]
  },
  {
   "cell_type": "code",
   "execution_count": null,
   "id": "cc0b7683",
   "metadata": {},
   "outputs": [],
   "source": [
    "gall = (go + go2).cols(1)"
   ]
  },
  {
   "cell_type": "code",
   "execution_count": null,
   "id": "92bde91e",
   "metadata": {},
   "outputs": [],
   "source": [
    "hv.save(gall,'fig1.html')"
   ]
  },
  {
   "cell_type": "markdown",
   "id": "1e9967d6",
   "metadata": {},
   "source": [
    "## dx = 50"
   ]
  },
  {
   "cell_type": "code",
   "execution_count": null,
   "id": "21a6150b",
   "metadata": {},
   "outputs": [],
   "source": [
    "zbt, Lt = df.zb.values, df.L.values\n",
    "L2 = np.arange(Lt[0],Lt[-1]+1,50, dtype=float)\n",
    "zb2 = np.interp(L2, Lt, zbt)"
   ]
  },
  {
   "cell_type": "code",
   "execution_count": null,
   "id": "0e7874f7",
   "metadata": {},
   "outputs": [],
   "source": [
    "channel = List()\n",
    "for zbs, Ls in zip(zb2, L2) :\n",
    "\n",
    "    p = np.array([\n",
    "            [0, zbs+10]\n",
    "            ,[0, zbs]\n",
    "            ,[B, zbs]\n",
    "            ,[B, zbs+10]\n",
    "        ])\n",
    "    \n",
    "    n = np.repeat(manning, (len(p) - 1))\n",
    "    \n",
    "    typed_ps = List()\n",
    "    typed_ns = List()\n",
    "    \n",
    "    typed_ps.append(p)\n",
    "    typed_ns.append(n)\n",
    "    \n",
    "    channel.append( sect.section(typed_ps, typed_ns, Ls) )\n",
    "\n",
    "channelr = List(reversed(channel))"
   ]
  },
  {
   "cell_type": "code",
   "execution_count": null,
   "id": "60aca7d0",
   "metadata": {},
   "outputs": [],
   "source": [
    "H2, A2 = nonuniform(channel, Qconst)\n",
    "Acol2, Qcol2, Hcol2 = unsteady(channel, channelr, Qconst, 1, dt=float(5))\n",
    "Astg2, Qstg2, Hstg2 = unsteady(channel, channelr, Qconst, 2, dt=float(2.5))"
   ]
  },
  {
   "cell_type": "code",
   "execution_count": null,
   "id": "763caab7",
   "metadata": {},
   "outputs": [],
   "source": [
    "from holoviews.plotting.util import process_cmap\n",
    "cmap_list = process_cmap(\"glasbey_hv\")"
   ]
  },
  {
   "cell_type": "code",
   "execution_count": null,
   "id": "bc523b89",
   "metadata": {},
   "outputs": [],
   "source": [
    "g = hv.Curve((L,H), label='non-uniform:dx=200') \\\n",
    "* hv.Curve((L,Hcol[::-1]), label='unsteady_collocated:dx=200') \\\n",
    "* hv.Curve((L,Hstg[::-1]), label='unsteady_staggered:dx=200') \\\n",
    "* hv.Curve((L2,H2), label='non-uniform:dx=50').options(color=cmap_list[0],line_dash='dashed') \\\n",
    "* hv.Curve((L2,Hcol2[::-1]), label='unsteady_collocated:dx=50').options(color=cmap_list[1],line_dash='dashed') \\\n",
    "* hv.Curve((L2,Hstg2[::-1]), label='unsteady_staggered:dx=50').options(color=cmap_list[2],line_dash='dashed') \\\n",
    "* hv.Curve((L,df['zbmean'].values+5.0), label='normal-depth(on zbmean)').options(color='k',line_width=2,line_dash='dashed') \\\n",
    "* hv.Curve((L,df['zb'].values), label='zb').options(color='k') \\\n",
    "* hv.Curve((L,df['zbmean'].values), label='zbmean').options(color='gray')\n",
    "\n",
    "go = g.options(width=600,height=550,show_grid=True, legend_position='top_left', ylabel='elevation')"
   ]
  },
  {
   "cell_type": "code",
   "execution_count": null,
   "id": "2960eab9",
   "metadata": {},
   "outputs": [],
   "source": [
    "hv.save(go,'fig2.html')"
   ]
  }
 ],
 "metadata": {
  "kernelspec": {
   "display_name": "Python 3",
   "language": "python",
   "name": "python3"
  },
  "language_info": {
   "codemirror_mode": {
    "name": "ipython",
    "version": 3
   },
   "file_extension": ".py",
   "mimetype": "text/x-python",
   "name": "python",
   "nbconvert_exporter": "python",
   "pygments_lexer": "ipython3",
   "version": "3.7.10"
  },
  "toc": {
   "base_numbering": 1,
   "nav_menu": {},
   "number_sections": true,
   "sideBar": true,
   "skip_h1_title": false,
   "title_cell": "Table of Contents",
   "title_sidebar": "Contents",
   "toc_cell": false,
   "toc_position": {},
   "toc_section_display": true,
   "toc_window_display": true
  }
 },
 "nbformat": 4,
 "nbformat_minor": 5
}
