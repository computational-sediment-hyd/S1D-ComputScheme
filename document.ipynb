{
 "cells": [
  {
   "cell_type": "code",
   "execution_count": 1,
   "id": "227525b6",
   "metadata": {},
   "outputs": [],
   "source": [
    "from IPython.display import IFrame"
   ]
  },
  {
   "cell_type": "markdown",
   "id": "42286753",
   "metadata": {},
   "source": [
    "### モチベーション\n",
    " - 一次元浅水流方程式（Saint-Venant 方程式）を実河川の計算用に拡張した断面平均一次元浅水流方程式の計算方法について改めて整理しました。"
   ]
  },
  {
   "cell_type": "markdown",
   "id": "92c8b38d",
   "metadata": {},
   "source": [
    "### 実河川の一次元計算の独特の難しさ\n",
    "\n",
    "#### 横断面形状の取り扱い方法\n",
    " 参照\n",
    "    \n",
    "#### 水深を陽的に扱えない\n",
    " 断面平均一次元浅水流方程式は次のとおりですが、\n",
    " ポイントは、水深、河床高が定義しづらいため、左辺第3項の$\\dfrac{\\partial H}{\\partial x}$を\n",
    " $\\dfrac{\\partial (h+z_b)}{\\partial x}$のように水深（圧力項）と河床高（重力項）に分離できないことです。\n",
    " \n",
    "$$\n",
    "\\begin{align}\n",
    "    &\\frac{\\partial Q}{\\partial t} + \\frac{\\partial }{\\partial x}\\left(\\dfrac{\\beta Q^2}{A}\\right) \n",
    "    + gA \\frac{\\partial H}{\\partial x} + gAi_e = 0\n",
    "\\end{align}\n",
    "$$\n",
    "\n",
    "そのため、特性曲線の考え方が使いづらくなります。一方、ドライベッド（河床勾配あり）はこの式形のほうが解きやすくなります。\n",
    "\n",
    "#### Δxを任意に取れない\n",
    " 実河川では縦断方向200m間隔で横断測量を行うこと一般的です。河川地形は複雑で幾何補間が難しいため、測量間隔を数値計算のΔxと使うことが多い。\n"
   ]
  },
  {
   "cell_type": "markdown",
   "id": "7e9616ef",
   "metadata": {},
   "source": [
    "### 計算スキーム\n",
    "\n",
    "以下の3スキームを比較する。\n",
    "\n",
    "1. 不等流計算\n",
    "2. 不定流計算：コロケート格子 ⇒ Wuさんの方法を採用（詳細は以下を参照）\n",
    "3. 不定流計算：スタッガード格子 ⇒  細田さんの方法を採用（詳細は以下を参照）\n",
    "\n",
    "不定流計算のスキームを選ぶ基準は、1). 急流河川でも解けること、2). ロバストであることです。\n",
    "\n",
    "特に私のような立場では、一つのモデルで何十河川も計算するので、2).ロバスト性は重要になります。\n"
   ]
  },
  {
   "cell_type": "markdown",
   "id": "e4f8ed0c",
   "metadata": {},
   "source": [
    "### テスト計算 \n",
    "\n",
    "#### 計算条件\n",
    "\n",
    " - 河床高は、平均河床勾配1/400で縦断方向200m間隔で地形データが存在するとしてその地点に-1から1の乱数を加えて実河川を模した河床形状を作った。\n",
    " - 河幅は50mで一定とする。\n",
    " - 縦断距離は10km\n",
    " - 粗度係数は0.03とする。 "
   ]
  },
  {
   "cell_type": "code",
   "execution_count": 2,
   "id": "2f882cea",
   "metadata": {},
   "outputs": [
    {
     "data": {
      "text/html": [
       "\n",
       "        <iframe\n",
       "            width=\"400\"\n",
       "            height=\"330\"\n",
       "            src=\"https://computational-sediment-hyd.github.io/S1D-ComputScheme/zb.html\"\n",
       "            frameborder=\"0\"\n",
       "            allowfullscreen\n",
       "        ></iframe>\n",
       "        "
      ],
      "text/plain": [
       "<IPython.lib.display.IFrame at 0x29b9d06d988>"
      ]
     },
     "execution_count": 2,
     "metadata": {},
     "output_type": "execute_result"
    }
   ],
   "source": [
    "IFrame('https://computational-sediment-hyd.github.io/S1D-ComputScheme/zb.html',width=400,height=330)"
   ]
  },
  {
   "cell_type": "markdown",
   "id": "307367b2",
   "metadata": {},
   "source": [
    "####  計算結果\n",
    "\n",
    "##### 基本ケース\n",
    "\n",
    " - 各計算スキームによる計算水位とフルード数と図化しました。\n",
    " - 不定流は適当な初期値を与えて定常になるまで計算しています。\n",
    " - 参考として平均河床での等流水深も示しています。"
   ]
  },
  {
   "cell_type": "code",
   "execution_count": 3,
   "id": "165c3d0c",
   "metadata": {},
   "outputs": [
    {
     "data": {
      "text/html": [
       "\n",
       "        <iframe\n",
       "            width=\"630\"\n",
       "            height=\"700\"\n",
       "            src=\"https://computational-sediment-hyd.github.io/S1D-ComputScheme/fig1.html\"\n",
       "            frameborder=\"0\"\n",
       "            allowfullscreen\n",
       "        ></iframe>\n",
       "        "
      ],
      "text/plain": [
       "<IPython.lib.display.IFrame at 0x29b9d0972c8>"
      ]
     },
     "execution_count": 3,
     "metadata": {},
     "output_type": "execute_result"
    }
   ],
   "source": [
    "IFrame('https://computational-sediment-hyd.github.io/S1D-ComputScheme/fig1.html',width=630,height=700)"
   ]
  },
  {
   "cell_type": "markdown",
   "id": "7ccd783d",
   "metadata": {},
   "source": [
    " 拡大図を見ると、\n",
    " \n",
    " - 各スキームで最大1m程度の差が生じている。\n",
    " - 不等流が最もシャープな水面形でその次は不定流：コロケート格子であり、不定流：スタッガードが最も滑らかになっている。\n",
    " - 河床形状に対する水面形の応答が不等流と不定流でずれている。"
   ]
  },
  {
   "cell_type": "markdown",
   "id": "4f930f1f",
   "metadata": {},
   "source": [
    "#### dxを50mに設定：内挿断面\n",
    " - 前述の河床形状をもとにdxを200mから50mに変更するように内挿断面を設定した。\n",
    " - 水面形の比較を示す。"
   ]
  },
  {
   "cell_type": "code",
   "execution_count": 4,
   "id": "0eaaeb81",
   "metadata": {},
   "outputs": [
    {
     "data": {
      "text/html": [
       "\n",
       "        <iframe\n",
       "            width=\"630\"\n",
       "            height=\"580\"\n",
       "            src=\"https://computational-sediment-hyd.github.io/S1D-ComputScheme/fig2.html\"\n",
       "            frameborder=\"0\"\n",
       "            allowfullscreen\n",
       "        ></iframe>\n",
       "        "
      ],
      "text/plain": [
       "<IPython.lib.display.IFrame at 0x29b9d0ae448>"
      ]
     },
     "execution_count": 4,
     "metadata": {},
     "output_type": "execute_result"
    }
   ],
   "source": [
    "IFrame('https://computational-sediment-hyd.github.io/S1D-ComputScheme/fig2.html',width=630,height=580)"
   ]
  },
  {
   "cell_type": "markdown",
   "id": "3fcccd92",
   "metadata": {},
   "source": [
    " 拡大図を見ると、\n",
    " \n",
    " - 各スキームの差はdx=200mの場合と比較して小さくなっている。\n",
    " - この値が真値に近いとすると、dx=200mによる再現性は、\n",
    "     * 不等流は形状は真値に近いが水位が高い。\n",
    "     * 不定流は平均的な水位は真値に近い。"
   ]
  },
  {
   "cell_type": "markdown",
   "id": "c04f57dc",
   "metadata": {},
   "source": [
    "### ゆるく考察\n",
    "\n",
    " - 前述のとおり実河川の計算ではdxを任意にとることが難しいのでdx=200mで計算することを基本に考える。\n",
    " - dx=200の不定流でもう少し高精度な（シャープな）水面形を計算したい。\n",
    " - 汎用性を考えるとコロケート格子を使いたい。\n",
    " - 以下によるとコロケート格子はスタッガード格子に比べて精度が低くなる。\n",
    " - しかし、次の論文（森西ら）による定義点を適切に評価することによりその差は無くなると示されている。\n",
    " - 今回の計算では、全体的な水面形のずれはほぼ無いため、局所的な運動量のバランスによって水面形の差が生じていると考えられる。\n",
    " - 今後のテーマとして、コロケート格子で局所的な保存則を満たしたスキームの開発を考える。(多分陰解法になる気がします。)"
   ]
  }
 ],
 "metadata": {
  "kernelspec": {
   "display_name": "Python 3",
   "language": "python",
   "name": "python3"
  },
  "language_info": {
   "codemirror_mode": {
    "name": "ipython",
    "version": 3
   },
   "file_extension": ".py",
   "mimetype": "text/x-python",
   "name": "python",
   "nbconvert_exporter": "python",
   "pygments_lexer": "ipython3",
   "version": "3.7.10"
  },
  "toc": {
   "base_numbering": 1,
   "nav_menu": {},
   "number_sections": true,
   "sideBar": true,
   "skip_h1_title": false,
   "title_cell": "Table of Contents",
   "title_sidebar": "Contents",
   "toc_cell": false,
   "toc_position": {},
   "toc_section_display": true,
   "toc_window_display": true
  }
 },
 "nbformat": 4,
 "nbformat_minor": 5
}
