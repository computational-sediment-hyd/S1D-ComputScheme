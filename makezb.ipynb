{
 "cells": [
  {
   "cell_type": "code",
   "execution_count": null,
   "id": "5bc31236",
   "metadata": {},
   "outputs": [],
   "source": [
    "import numpy as np\n",
    "import pandas as pd\n",
    "import holoviews as hv\n",
    "hv.extension('bokeh')"
   ]
  },
  {
   "cell_type": "code",
   "execution_count": null,
   "id": "0322d41a",
   "metadata": {},
   "outputs": [],
   "source": [
    "dx = 200\n",
    "L = np.arange(0,10001,dx)\n",
    "L"
   ]
  },
  {
   "cell_type": "code",
   "execution_count": null,
   "id": "6e8d75ea",
   "metadata": {},
   "outputs": [],
   "source": [
    "ib = 1/400"
   ]
  },
  {
   "cell_type": "code",
   "execution_count": null,
   "id": "779a434c",
   "metadata": {},
   "outputs": [],
   "source": [
    "amp = 1.0\n",
    "delta = np.random.rand(len(L)) * amp*2 - amp"
   ]
  },
  {
   "cell_type": "code",
   "execution_count": null,
   "id": "ee2d5d8c",
   "metadata": {},
   "outputs": [],
   "source": [
    "g = hv.Curve((L,ib*L+delta)).options(show_grid=True,ylabel='elevation',color='k') * hv.Curve((L,ib*L)).options(color='gray') "
   ]
  },
  {
   "cell_type": "code",
   "execution_count": null,
   "id": "ab204313",
   "metadata": {},
   "outputs": [],
   "source": [
    "g"
   ]
  },
  {
   "cell_type": "code",
   "execution_count": null,
   "id": "bdf45370",
   "metadata": {},
   "outputs": [],
   "source": [
    "out = hv.save(g,'zb.html')\n",
    "del out"
   ]
  },
  {
   "cell_type": "code",
   "execution_count": null,
   "id": "ad5fb095",
   "metadata": {},
   "outputs": [],
   "source": [
    "df = pd.DataFrame({'L':L, 'zb':ib*L+delta, 'zbmean':ib*L})"
   ]
  },
  {
   "cell_type": "code",
   "execution_count": null,
   "id": "e36860fc",
   "metadata": {},
   "outputs": [],
   "source": [
    "out = df.to_csv('zb.csv')\n",
    "del out"
   ]
  }
 ],
 "metadata": {
  "kernelspec": {
   "display_name": "Python 3",
   "language": "python",
   "name": "python3"
  },
  "language_info": {
   "codemirror_mode": {
    "name": "ipython",
    "version": 3
   },
   "file_extension": ".py",
   "mimetype": "text/x-python",
   "name": "python",
   "nbconvert_exporter": "python",
   "pygments_lexer": "ipython3",
   "version": "3.7.10"
  },
  "toc": {
   "base_numbering": 1,
   "nav_menu": {},
   "number_sections": true,
   "sideBar": true,
   "skip_h1_title": false,
   "title_cell": "Table of Contents",
   "title_sidebar": "Contents",
   "toc_cell": false,
   "toc_position": {},
   "toc_section_display": true,
   "toc_window_display": false
  }
 },
 "nbformat": 4,
 "nbformat_minor": 5
}
